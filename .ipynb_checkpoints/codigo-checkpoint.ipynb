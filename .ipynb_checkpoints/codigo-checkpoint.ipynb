{
 "cells": [
  {
   "cell_type": "code",
   "execution_count": 3,
   "metadata": {},
   "outputs": [
    {
     "name": "stdout",
     "output_type": "stream",
     "text": [
      "Para realizar su busqueda del libro, debe escoger un digito \n",
      " 0 = Id, \n",
      " 1 = Título, \n",
      " 2 = Subtítulo, \n",
      " 3 = fecha de publicación,  \n",
      " 4 = descripcion, \n",
      " 5 = un editor, \n",
      " 6 =autor, \n",
      " 7 =categoria libro \n",
      "6\n",
      "valor introducido  6\n",
      "Nombre\n",
      "1\n",
      "Apellido\n",
      "1\n",
      "[(Decimal('1'), 'programar', 'perrita', None, 'perrita', 'perrita', 'javier', 'rojas', 'terror')]\n",
      "\n",
      " Desea borrar libro, \n",
      " 0 = Borrar, \n",
      " 1 = No borrar, \n",
      "0\n",
      "escriba el nombre del libro para borrar registro\n",
      "programar\n"
     ]
    }
   ],
   "source": [
    "import psycopg2\n",
    "\n",
    "\n",
    "print(\"Para realizar su busqueda del libro, debe escoger un digito \\n 0 = Id, \\n 1 = Título, \\n 2 = Subtítulo, \\n 3 = fecha de publicación,  \\n 4 = descripcion, \\n 5 = un editor, \\n 6 =autor, \\n 7 =categoria libro \")\n",
    "busqueda = int(input())\n",
    "print(\"valor introducido \",busqueda)\n",
    "\n",
    "conn = psycopg2.connect(\"dbname=biblioteca user=postgres password=arone host=localhost\")\n",
    "\n",
    "cur = conn.cursor()\n",
    "\n",
    "var1 = 100\n",
    "if busqueda == 0:\n",
    "    print(\"Id  clave de busqurda\")\n",
    "    value =int(input())\n",
    "elif busqueda == 3:\n",
    "    print(\"Fecha clave de busqueda\")\n",
    "    value =int(input())\n",
    "elif busqueda == 6:\n",
    "    print(\"Nombre\")\n",
    "    value =input()\n",
    "    print(\"Apellido\")\n",
    "    value2 =input()\n",
    "else:\n",
    "    print(\"Palabra clave de busqueda\")\n",
    "    value =input()  \n",
    "    \n",
    "    \n",
    "# define the function blocks\n",
    "def Id():\n",
    "    cur.execute (\"SELECT * FROM libro WHERE id LIKE %s;\", [value]);\n",
    "\n",
    "def Titulo():\n",
    "    cur.execute (\"SELECT libro.id, libro.titulo, libro.subtitulo, libro.fecha_publicacion, libro.descripcion, libro.un_editor, autor.nombre, autor.apellido, categoria.tipo  FROM libro INNER JOIN autor ON libro.cautor1 = autor.cautor  INNER JOIN categoria ON libro.ccategoria1 = categoria.ccategoria WHERE titulo LIKE %s;\", [value]);\n",
    "\n",
    "def Subtitulo():\n",
    "    cur.execute (\"SELECT libro.id, libro.titulo, libro.subtitulo, libro.fecha_publicacion, libro.descripcion, libro.un_editor, autor.nombre, autor.apellido, categoria.tipo  FROM libro INNER JOIN autor ON libro.cautor1 = autor.cautor  INNER JOIN categoria ON libro.ccategoria1 = categoria.ccategoria WHERE subtitulo LIKE %s;\", [value]);\n",
    "\n",
    "def fechapublicacion():\n",
    "    cur.execute (\"SELECT libro.id, libro.titulo, libro.subtitulo, libro.fecha_publicacion, libro.descripcion, libro.un_editor, autor.nombre, autor.apellido, categoria.tipo  FROM libro INNER JOIN autor ON libro.cautor1 = autor.cautor  INNER JOIN categoria ON libro.ccategoria1 = categoria.ccategoria WHERE fecha_publicacion LIKE %s;\", [value]);\n",
    "\n",
    "def descripcion():\n",
    "    cur.execute (\"SELECT libro.id, libro.titulo, libro.subtitulo, libro.fecha_publicacion, libro.descripcion, libro.un_editor, autor.nombre, autor.apellido, categoria.tipo  FROM libro INNER JOIN autor ON libro.cautor1 = autor.cautor  INNER JOIN categoria ON libro.ccategoria1 = categoria.ccategoria WHERE descripcion LIKE %s;\", [value])   \n",
    "    \n",
    "def uneditor():\n",
    "    cur.execute (\"SELECT libro.id, libro.titulo, libro.subtitulo, libro.fecha_publicacion, libro.descripcion, libro.un_editor, autor.nombre, autor.apellido, categoria.tipo  FROM libro INNER JOIN autor ON libro.cautor1 = autor.cautor  INNER JOIN categoria ON libro.ccategoria1 = categoria.ccategoria WHERE un_editor LIKE %s;\", [value])  \n",
    "    \n",
    "def autor():\n",
    "    cur.execute (\"SELECT libro.id, libro.titulo, libro.subtitulo, libro.fecha_publicacion, libro.descripcion, libro.un_editor, autor.nombre, autor.apellido, categoria.tipo  FROM libro INNER JOIN autor ON libro.cautor1 = autor.cautor  INNER JOIN categoria ON libro.ccategoria1 = categoria.ccategoria WHERE nombre LIKE '%javier%' AND apellido LIKE '%rojas%' ;\")    \n",
    "\n",
    "def tipo():\n",
    "    cur.execute (\"SELECT libro.id, libro.titulo, libro.subtitulo, libro.fecha_publicacion, libro.descripcion, libro.un_editor, autor.nombre, autor.apellido, categoria.tipo  FROM libro INNER JOIN autor ON libro.cautor1 = autor.cautor  INNER JOIN categoria ON libro.ccategoria1 = categoria.ccategoria WHERE tipo LIKE %s;\", [value])\n",
    "    # map the inputs to the function blocks\n",
    "options = {0 : Id,\n",
    "           1 : Titulo,\n",
    "           2 : Subtitulo,\n",
    "           3 : fechapublicacion,\n",
    "           4 : descripcion,\n",
    "           5 : uneditor,\n",
    "           6 : autor,\n",
    "           7 : tipo,\n",
    "           \n",
    "}\n",
    "options[busqueda]()\n",
    "\n",
    "rows = cur.fetchall()\n",
    "print(rows)\n",
    "conn.close()\n",
    "\n",
    "print(\"\\n Desea borrar libro, \\n 0 = Borrar, \\n 1 = No borrar, \")\n",
    "borrar = int(input())\n",
    "\n",
    "if borrar == 0:\n",
    "    print(\"escriba el nombre del libro para borrar registro\")\n",
    "    value =input()\n",
    "    conn = psycopg2.connect(\"dbname=biblioteca user=postgres password=arone host=localhost\")\n",
    "    cur = conn.cursor()\n",
    "    cur.execute (\"DELETE FROM libro WHERE titulo LIKE %s;\", [value]);\n",
    "    conn.close()\n",
    "elif borrar == 1:\n",
    "    print(\"No Borrar registro\")\n",
    "    \n",
    "\n",
    "\n"
   ]
  },
  {
   "cell_type": "code",
   "execution_count": null,
   "metadata": {},
   "outputs": [],
   "source": []
  },
  {
   "cell_type": "code",
   "execution_count": null,
   "metadata": {},
   "outputs": [],
   "source": [
    "SELECT libro.id, autor.nombre, autor.apellido FROM libro INNER JOIN autor ON libro.cautor1 = autor.cautor where titulo LIKE '#programar#';"
   ]
  },
  {
   "cell_type": "code",
   "execution_count": null,
   "metadata": {},
   "outputs": [],
   "source": [
    "SELECT libro.id, libro.titulo, autor.nombre, autor.apellido FROM libro INNER JOIN autor ON libro.cautor1 = autor.cautor "
   ]
  },
  {
   "cell_type": "code",
   "execution_count": null,
   "metadata": {},
   "outputs": [],
   "source": [
    "SELECT libro.id, libro.titulo, autor.nombre, autor.apellido, categoria.tipo  FROM libro INNER JOIN autor ON libro.cautor1 = autor.cautor  INNER JOIN categoria ON libro.ccategoria1 = categoria.ccategoria"
   ]
  },
  {
   "cell_type": "code",
   "execution_count": null,
   "metadata": {},
   "outputs": [],
   "source": [
    "'%er%'\n",
    "SELECT libro.id, libro.titulo, autor.nombre, autor.apellido, categoria.tipo  FROM libro INNER JOIN autor ON libro.cautor1 = autor.cautor  INNER JOIN categoria ON libro.ccategoria1 = categoria.ccategoria WHERE tipo LIKE '%terror%'"
   ]
  },
  {
   "cell_type": "code",
   "execution_count": null,
   "metadata": {},
   "outputs": [],
   "source": [
    "SELECT libro.id, libro.titulo, libro.subtitulo, libro.fecha_publicacion, libro.descripcion, libro.un_editor, autor.nombre, autor.apellido, categoria.tipo  FROM libro INNER JOIN autor ON libro.cautor1 = autor.cautor  INNER JOIN categoria ON libro.ccategoria1 = categoria.ccategoria WHERE nombre LIKE '%javier%' AND apellido LIKE '%rojas%' ;"
   ]
  }
 ],
 "metadata": {
  "kernelspec": {
   "display_name": "Python 3",
   "language": "python",
   "name": "python3"
  },
  "language_info": {
   "codemirror_mode": {
    "name": "ipython",
    "version": 3
   },
   "file_extension": ".py",
   "mimetype": "text/x-python",
   "name": "python",
   "nbconvert_exporter": "python",
   "pygments_lexer": "ipython3",
   "version": "3.6.8"
  }
 },
 "nbformat": 4,
 "nbformat_minor": 2
}
